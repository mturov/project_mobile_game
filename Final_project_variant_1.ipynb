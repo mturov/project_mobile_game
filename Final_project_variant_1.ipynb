{
 "cells": [
  {
   "cell_type": "code",
   "execution_count": 17,
   "metadata": {},
   "outputs": [],
   "source": [
    "import numpy as np \n",
    "import pandas as pd\n",
    "import datetime \n",
    "import matplotlib.pyplot as plt\n",
    "from scipy import stats\n",
    "import pingouin as pg\n",
    "import matplotlib.pyplot as plt\n",
    "import seaborn as sns"
   ]
  },
  {
   "cell_type": "markdown",
   "metadata": {},
   "source": [
    "Задание №1 - Представьте, что вы работаете в компании, которая разрабатывает мобильные игры. К вам пришел менеджер с рядом задач по исследованию нескольких аспектов мобильного приложения:\n",
    "\n",
    "В первую очередь, его интересует показатель retention. Напишите функцию для его подсчета."
   ]
  },
  {
   "cell_type": "code",
   "execution_count": 18,
   "metadata": {},
   "outputs": [],
   "source": [
    "# Подгружаем данные о регистрации и о времени захода пользователей в игру\n",
    "df_reg = pd.read_csv('/mnt/HC_Volume_18315164/home-jupyter/jupyter-m-turov/shared/problem1-reg_data.csv', sep= ';')\n",
    "df_auth = pd.read_csv('/mnt/HC_Volume_18315164/home-jupyter/jupyter-m-turov/shared/problem1-auth_data.csv', sep= ';')"
   ]
  },
  {
   "cell_type": "code",
   "execution_count": 19,
   "metadata": {},
   "outputs": [
    {
     "data": {
      "text/plain": [
       "reg_ts    0\n",
       "uid       0\n",
       "dtype: int64"
      ]
     },
     "execution_count": 19,
     "metadata": {},
     "output_type": "execute_result"
    }
   ],
   "source": [
    "# Проверяем датафремы df_reg и df_auth на наличие пропусков и дубликатов\n",
    "df_reg.isna().sum()"
   ]
  },
  {
   "cell_type": "code",
   "execution_count": 20,
   "metadata": {},
   "outputs": [
    {
     "name": "stdout",
     "output_type": "stream",
     "text": [
      "Empty DataFrame\n",
      "Columns: [reg_ts, uid]\n",
      "Index: []\n"
     ]
    }
   ],
   "source": [
    "duplicates_reg = df_reg[df_reg.duplicated()]\n",
    "\n",
    "print(duplicates_reg)"
   ]
  },
  {
   "cell_type": "code",
   "execution_count": 21,
   "metadata": {},
   "outputs": [
    {
     "data": {
      "text/plain": [
       "auth_ts    0\n",
       "uid        0\n",
       "dtype: int64"
      ]
     },
     "execution_count": 21,
     "metadata": {},
     "output_type": "execute_result"
    }
   ],
   "source": [
    "df_auth.isna().sum()"
   ]
  },
  {
   "cell_type": "code",
   "execution_count": 22,
   "metadata": {},
   "outputs": [
    {
     "name": "stdout",
     "output_type": "stream",
     "text": [
      "Empty DataFrame\n",
      "Columns: [auth_ts, uid]\n",
      "Index: []\n"
     ]
    }
   ],
   "source": [
    "duplicates_auth = df_auth[df_auth.duplicated()]\n",
    "\n",
    "print(duplicates_auth)"
   ]
  },
  {
   "cell_type": "markdown",
   "metadata": {},
   "source": [
    "Дубликатов и пустых значений не обнаружено. Продолжаем действия по преобразованию датафрейма и созданию когортного анализа внутри функции."
   ]
  },
  {
   "cell_type": "code",
   "execution_count": 23,
   "metadata": {},
   "outputs": [],
   "source": [
    "# Переводим дату в вид datetime из юникс-системы\n",
    "df_reg['reg_ts'] = pd.to_datetime(df_reg['reg_ts'], unit='s')\n",
    "df_auth['auth_ts'] = pd.to_datetime(df_auth['auth_ts'], unit='s')"
   ]
  },
  {
   "cell_type": "code",
   "execution_count": 24,
   "metadata": {},
   "outputs": [],
   "source": [
    "df = pd.merge(df_reg, df_auth, on='uid', how='left')"
   ]
  },
  {
   "cell_type": "markdown",
   "metadata": {},
   "source": [
    "Пишем функцию для расчета retention. Для визуализации retention добавлена тепловая карта и когортный анализ."
   ]
  },
  {
   "cell_type": "code",
   "execution_count": 26,
   "metadata": {},
   "outputs": [],
   "source": [
    "def calculate_full_retention (df_reg, df_auth, start=None, end=None):\n",
    "    \"\"\"\n",
    "    Рассчитывает полный retention игроков по дням от даты регистрации с когортным анализом и тепловой картой.\n",
    "\n",
    "    Параметры:\n",
    "    - df_reg: DataFrame с данными о регистрации пользователей.\n",
    "    - df_auth: DataFrame с данными о времени захода пользователей в игру.\n",
    "    - start: Начальная дата для подсчета retention (формат: YYYY-MM-DD).\n",
    "    - end: Конечная дата для подсчета retention (формат: YYYY-MM-DD).\n",
    "\n",
    "    Возвращает:\n",
    "    - cohorts: DataFrame с результатами когортного анализа.\n",
    "    \"\"\"\n",
    "\n",
    "    # Проверяем наличие столбцов\n",
    "    required_columns_reg = {'reg_ts', 'uid'}\n",
    "    required_columns_auth = {'auth_ts', 'uid'}\n",
    "\n",
    "    # Преобразуем временные метки в формат datetime\n",
    "    df_reg['reg_ts'] = pd.to_datetime(df_reg['reg_ts'], unit='s')\n",
    "    df_auth['auth_ts'] = pd.to_datetime(df_auth['auth_ts'], unit='s')\n",
    "\n",
    "    # Фильтруем данные по заданному диапазону дат\n",
    "    if start:\n",
    "        df_reg = df_reg[df_reg['reg_ts'] >= pd.to_datetime(start)]\n",
    "        df_auth = df_auth[df_auth['auth_ts'] >= pd.to_datetime(start)]\n",
    "    if end:\n",
    "        df_reg = df_reg[df_reg['reg_ts'] <= pd.to_datetime(end)]\n",
    "        df_auth = df_auth[df_auth['auth_ts'] <= pd.to_datetime(end)]\n",
    "\n",
    "    df = pd.merge(df_reg, df_auth, on='uid', how='left')\n",
    "\n",
    "    # Рассчитываем количество дней от начальной даты для каждой строки\n",
    "    df['day'] = (df['auth_ts'] - df['reg_ts']).dt.days\n",
    "\n",
    "    # Когортный анализ\n",
    "    df['reg_date'] = df['reg_ts'].dt.date\n",
    "    cohorts = df.groupby(['reg_date', 'day']).agg({'uid': 'nunique'}).reset_index()\n",
    "    cohorts['retention'] = cohorts.groupby('reg_date')['uid'].transform(lambda x: x / x.iloc[0])\n",
    "\n",
    "    # Построение тепловой карты\n",
    "    cohort_pivot = cohorts.pivot(index='reg_date', columns='day', values='retention')\n",
    "    plt.figure(figsize=(14, 8))\n",
    "    sns.heatmap(cohort_pivot, annot=True, fmt='.2f', cmap='viridis')\n",
    "    plt.title('Cohort Analysis - Retention Heatmap')\n",
    "    plt.xlabel('Days')\n",
    "    plt.ylabel('Registration Date')\n",
    "    plt.show()\n",
    "\n",
    "    return cohorts"
   ]
  },
  {
   "cell_type": "code",
   "execution_count": 27,
   "metadata": {},
   "outputs": [
    {
     "data": {
      "image/png": "[encoded data removed]",
      "text/plain": [
       "<Figure size 1008x576 with 2 Axes>"
      ]
     },
     "metadata": {
      "needs_background": "light"
     },
     "output_type": "display_data"
    },
    {
     "name": "stdout",
     "output_type": "stream",
     "text": [
      "       reg_date  day   uid  retention\n",
      "0    2020-01-01    0  1061   1.000000\n",
      "1    2020-01-01    1    50   0.047125\n",
      "2    2020-01-01    2    38   0.035815\n",
      "3    2020-01-01    3    51   0.048068\n",
      "4    2020-01-01    4    62   0.058435\n",
      "..          ...  ...   ...        ...\n",
      "100  2020-01-12    1    42   0.038853\n",
      "101  2020-01-12    2    27   0.024977\n",
      "102  2020-01-13    0  1083   1.000000\n",
      "103  2020-01-13    1    21   0.019391\n",
      "104  2020-01-14    0  1084   1.000000\n",
      "\n",
      "[105 rows x 4 columns]\n"
     ]
    }
   ],
   "source": [
    "# Пример использования функции\n",
    "start_date = '2020-01-01'\n",
    "end_date = '2020-01-15'\n",
    "\n",
    "retention_data = calculate_full_retention (df_reg, df_auth, start=start_date, end=end_date)\n",
    "print(retention_data)"
   ]
  },
  {
   "cell_type": "markdown",
   "metadata": {},
   "source": [
    "По результатам визуализации, можно сделать вывод, что retention в приложении низкий. Для выявления причин низкого retention может понадобиться дополнительное исследование продукта, дать точный ответ невозможно. \n",
    "\n",
    "Для повышения уровня retention необходимо после проведения дополнительного исследования продукта, разработать план, предполагающий:\n",
    "\n",
    "1. Составление PMF и нахождение новых и эффективных PMC;\n",
    "2. Выявление неэффективных PMC и переорганизация ресурсов, которые шли на их содержаие. "
   ]
  },
  {
   "cell_type": "markdown",
   "metadata": {},
   "source": [
    "Задание №2. Имеются результаты A/B теста, в котором двум группам пользователей предлагались различные наборы акционных предложений. Известно, что ARPU в тестовой группе выше на 5%, чем в контрольной. При этом в контрольной группе 1928 игроков из 202103 оказались платящими, а в тестовой – 1805 из 202667.\n",
    "\n",
    "Какой набор предложений можно считать лучшим? Какие метрики стоит проанализировать для принятия правильного решения и как?"
   ]
  },
  {
   "cell_type": "code",
   "execution_count": 28,
   "metadata": {},
   "outputs": [],
   "source": [
    "# Загружаем данные и разделяем колонки\n",
    "df_apru = pd.read_csv('/mnt/HC_Volume_18315164/home-jupyter/jupyter-m-turov/Final_project/var_1.csv', sep=';')"
   ]
  },
  {
   "cell_type": "code",
   "execution_count": 29,
   "metadata": {},
   "outputs": [],
   "source": [
    "# Переводим колонку revenue в формат int\n",
    "df_apru['revenue'] = df_apru['revenue'].astype(int)"
   ]
  },
  {
   "cell_type": "code",
   "execution_count": 30,
   "metadata": {},
   "outputs": [
    {
     "name": "stdout",
     "output_type": "stream",
     "text": [
      "<class 'pandas.core.frame.DataFrame'>\n",
      "RangeIndex: 404770 entries, 0 to 404769\n",
      "Data columns (total 3 columns):\n",
      " #   Column     Non-Null Count   Dtype \n",
      "---  ------     --------------   ----- \n",
      " 0   user_id    404770 non-null  int64 \n",
      " 1   revenue    404770 non-null  int64 \n",
      " 2   testgroup  404770 non-null  object\n",
      "dtypes: int64(2), object(1)\n",
      "memory usage: 9.3+ MB\n"
     ]
    }
   ],
   "source": [
    "# Проверяем датафрейм\n",
    "df_apru.info()"
   ]
  },
  {
   "cell_type": "code",
   "execution_count": 31,
   "metadata": {},
   "outputs": [
    {
     "data": {
      "text/plain": [
       "reg_ts     0\n",
       "uid        0\n",
       "auth_ts    0\n",
       "dtype: int64"
      ]
     },
     "execution_count": 31,
     "metadata": {},
     "output_type": "execute_result"
    }
   ],
   "source": [
    "# Смотрим на наличие пустых значений\n",
    "df.isna().sum()"
   ]
  },
  {
   "cell_type": "code",
   "execution_count": 32,
   "metadata": {},
   "outputs": [
    {
     "name": "stdout",
     "output_type": "stream",
     "text": [
      "           revenue\n",
      "testgroup         \n",
      "a          5136189\n",
      "b          5421603\n"
     ]
    }
   ],
   "source": [
    "# Группируем по группам и считаем общую прибыль\n",
    "df_apru_a = df_apru.groupby('testgroup').agg({'revenue': 'sum'})\n",
    "print(df_apru_a)"
   ]
  },
  {
   "cell_type": "code",
   "execution_count": 33,
   "metadata": {},
   "outputs": [
    {
     "name": "stdout",
     "output_type": "stream",
     "text": [
      "           user_id\n",
      "testgroup         \n",
      "a           202103\n",
      "b           202667\n"
     ]
    }
   ],
   "source": [
    "# Группируем по группам и считаем кол-во уникальных пользователей\n",
    "df_apru_a = df_apru.groupby('testgroup').agg({'user_id': 'nunique'})\n",
    "print(df_apru_a)"
   ]
  },
  {
   "cell_type": "code",
   "execution_count": 34,
   "metadata": {},
   "outputs": [
    {
     "name": "stdout",
     "output_type": "stream",
     "text": [
      "           user_id\n",
      "testgroup         \n",
      "a             1928\n",
      "b             1805\n"
     ]
    }
   ],
   "source": [
    "# Фильтруем пользователей и выбираем только платящих\n",
    "df_apru_payusers = df_apru.query('revenue > 0').groupby('testgroup').agg({'user_id': 'nunique'})\n",
    "print(df_apru_payusers)"
   ]
  },
  {
   "cell_type": "code",
   "execution_count": 35,
   "metadata": {},
   "outputs": [],
   "source": [
    "# На данный момент получаются такие данные:\n",
    "revenue_a = 5136189\n",
    "revenue_b = 5421603\n",
    "user_a_all = 202103\n",
    "user_b_all = 202667\n",
    "user_a_payusers = 1928\n",
    "user_b_payusers = 1805"
   ]
  },
  {
   "cell_type": "code",
   "execution_count": 36,
   "metadata": {},
   "outputs": [
    {
     "data": {
      "text/html": [
       "<div>\n",
       "<style scoped>\n",
       "    .dataframe tbody tr th:only-of-type {\n",
       "        vertical-align: middle;\n",
       "    }\n",
       "\n",
       "    .dataframe tbody tr th {\n",
       "        vertical-align: top;\n",
       "    }\n",
       "\n",
       "    .dataframe thead th {\n",
       "        text-align: right;\n",
       "    }\n",
       "</style>\n",
       "<table border=\"1\" class=\"dataframe\">\n",
       "  <thead>\n",
       "    <tr style=\"text-align: right;\">\n",
       "      <th></th>\n",
       "      <th>user_id</th>\n",
       "      <th>revenue</th>\n",
       "    </tr>\n",
       "  </thead>\n",
       "  <tbody>\n",
       "    <tr>\n",
       "      <th>count</th>\n",
       "      <td>202103.000000</td>\n",
       "      <td>202103.000000</td>\n",
       "    </tr>\n",
       "    <tr>\n",
       "      <th>mean</th>\n",
       "      <td>202555.909843</td>\n",
       "      <td>25.413720</td>\n",
       "    </tr>\n",
       "    <tr>\n",
       "      <th>std</th>\n",
       "      <td>116802.329266</td>\n",
       "      <td>920.768137</td>\n",
       "    </tr>\n",
       "    <tr>\n",
       "      <th>min</th>\n",
       "      <td>2.000000</td>\n",
       "      <td>0.000000</td>\n",
       "    </tr>\n",
       "    <tr>\n",
       "      <th>25%</th>\n",
       "      <td>101502.500000</td>\n",
       "      <td>0.000000</td>\n",
       "    </tr>\n",
       "    <tr>\n",
       "      <th>50%</th>\n",
       "      <td>202988.000000</td>\n",
       "      <td>0.000000</td>\n",
       "    </tr>\n",
       "    <tr>\n",
       "      <th>75%</th>\n",
       "      <td>303559.000000</td>\n",
       "      <td>0.000000</td>\n",
       "    </tr>\n",
       "    <tr>\n",
       "      <th>max</th>\n",
       "      <td>404769.000000</td>\n",
       "      <td>37433.000000</td>\n",
       "    </tr>\n",
       "  </tbody>\n",
       "</table>\n",
       "</div>"
      ],
      "text/plain": [
       "             user_id        revenue\n",
       "count  202103.000000  202103.000000\n",
       "mean   202555.909843      25.413720\n",
       "std    116802.329266     920.768137\n",
       "min         2.000000       0.000000\n",
       "25%    101502.500000       0.000000\n",
       "50%    202988.000000       0.000000\n",
       "75%    303559.000000       0.000000\n",
       "max    404769.000000   37433.000000"
      ]
     },
     "execution_count": 36,
     "metadata": {},
     "output_type": "execute_result"
    }
   ],
   "source": [
    "# Рассмотрим общие сведения по обоим группам\n",
    "df_apru.query(\"testgroup == 'a'\").describe()"
   ]
  },
  {
   "cell_type": "code",
   "execution_count": 37,
   "metadata": {},
   "outputs": [
    {
     "data": {
      "text/html": [
       "<div>\n",
       "<style scoped>\n",
       "    .dataframe tbody tr th:only-of-type {\n",
       "        vertical-align: middle;\n",
       "    }\n",
       "\n",
       "    .dataframe tbody tr th {\n",
       "        vertical-align: top;\n",
       "    }\n",
       "\n",
       "    .dataframe thead th {\n",
       "        text-align: right;\n",
       "    }\n",
       "</style>\n",
       "<table border=\"1\" class=\"dataframe\">\n",
       "  <thead>\n",
       "    <tr style=\"text-align: right;\">\n",
       "      <th></th>\n",
       "      <th>user_id</th>\n",
       "      <th>revenue</th>\n",
       "    </tr>\n",
       "  </thead>\n",
       "  <tbody>\n",
       "    <tr>\n",
       "      <th>count</th>\n",
       "      <td>202667.000000</td>\n",
       "      <td>202667.000000</td>\n",
       "    </tr>\n",
       "    <tr>\n",
       "      <th>mean</th>\n",
       "      <td>202215.564389</td>\n",
       "      <td>26.751287</td>\n",
       "    </tr>\n",
       "    <tr>\n",
       "      <th>std</th>\n",
       "      <td>116891.926690</td>\n",
       "      <td>287.324162</td>\n",
       "    </tr>\n",
       "    <tr>\n",
       "      <th>min</th>\n",
       "      <td>1.000000</td>\n",
       "      <td>0.000000</td>\n",
       "    </tr>\n",
       "    <tr>\n",
       "      <th>25%</th>\n",
       "      <td>100855.500000</td>\n",
       "      <td>0.000000</td>\n",
       "    </tr>\n",
       "    <tr>\n",
       "      <th>50%</th>\n",
       "      <td>201821.000000</td>\n",
       "      <td>0.000000</td>\n",
       "    </tr>\n",
       "    <tr>\n",
       "      <th>75%</th>\n",
       "      <td>303602.500000</td>\n",
       "      <td>0.000000</td>\n",
       "    </tr>\n",
       "    <tr>\n",
       "      <th>max</th>\n",
       "      <td>404770.000000</td>\n",
       "      <td>4000.000000</td>\n",
       "    </tr>\n",
       "  </tbody>\n",
       "</table>\n",
       "</div>"
      ],
      "text/plain": [
       "             user_id        revenue\n",
       "count  202667.000000  202667.000000\n",
       "mean   202215.564389      26.751287\n",
       "std    116891.926690     287.324162\n",
       "min         1.000000       0.000000\n",
       "25%    100855.500000       0.000000\n",
       "50%    201821.000000       0.000000\n",
       "75%    303602.500000       0.000000\n",
       "max    404770.000000    4000.000000"
      ]
     },
     "execution_count": 37,
     "metadata": {},
     "output_type": "execute_result"
    }
   ],
   "source": [
    "# Рассмотрим общие сведения по обоим группам\n",
    "df_apru.query(\"testgroup == 'b'\").describe()"
   ]
  },
  {
   "cell_type": "markdown",
   "metadata": {},
   "source": [
    "Стоит обратить внимание на два параметра: std (стандартное отклонение) и max (максимальная сумма покупки от пользователя). Эти два значения различаются. В группе А (контрольная группа), стандартное распределение выше, чем в группе B (тестовая группа), так же там выше максимальная сумма покупки. \n",
    "\n",
    "Для качественного А/B теста необходимо, чтобы все показатели были похожими. Видимо, при составлении выборки для теста были допущены нарушения и все дальнейшие результаты теста нужно ставить под сомнение. "
   ]
  },
  {
   "cell_type": "markdown",
   "metadata": {},
   "source": [
    "Посчитаем теперь ряд метрик. Помимо ARPU, желательно посчитать еще ARPPU (расчет только по платящим пользователям) и конверсию в оплату (CR). \n",
    "\n",
    "Посчитаем APRU. Формула = Выручка / кол-во всех пользователей в группе"
   ]
  },
  {
   "cell_type": "code",
   "execution_count": 38,
   "metadata": {},
   "outputs": [
    {
     "name": "stdout",
     "output_type": "stream",
     "text": [
      "ARPU по контрольной (А) группе: 25.41\n",
      "ARPU по тестовой (B) группе: 26.75\n"
     ]
    }
   ],
   "source": [
    "apru_group_a = round(revenue_a / user_a_all, 2)\n",
    "print(f'ARPU по контрольной (А) группе: {apru_group_a}')\n",
    "\n",
    "apru_group_b = round(revenue_b / user_b_all, 2)\n",
    "print(f'ARPU по тестовой (B) группе: {apru_group_b}')"
   ]
  },
  {
   "cell_type": "markdown",
   "metadata": {},
   "source": [
    "Посчитаем ARPPU. Периодическое сравнение ARPU и ARPPU помогает понять ситуацию с доходом компании. Чем больше разница показателей, тем меньше прибыль. Формула ARPPU = Выручка / Кол-во платящих клиентов."
   ]
  },
  {
   "cell_type": "code",
   "execution_count": 39,
   "metadata": {},
   "outputs": [
    {
     "name": "stdout",
     "output_type": "stream",
     "text": [
      "ARPPU по контрольной (А) группе: 2664.0\n",
      "ARPPU по тестовой (B) группе: 3003.66\n"
     ]
    }
   ],
   "source": [
    "arppu_a = round(revenue_a / user_a_payusers, 2)\n",
    "print(f'ARPPU по контрольной (А) группе: {arppu_a}')\n",
    "\n",
    "arppu_b = round(revenue_b / user_b_payusers, 2)\n",
    "\n",
    "print(f'ARPPU по тестовой (B) группе: {arppu_b}')"
   ]
  },
  {
   "cell_type": "markdown",
   "metadata": {},
   "source": [
    "Посчитаем CR в покупку акционных предложений.\n",
    "Формула CR = (Кол-во пользователей, совершившие покупку / Кол-во всех пользователей) * 100"
   ]
  },
  {
   "cell_type": "code",
   "execution_count": 40,
   "metadata": {},
   "outputs": [
    {
     "name": "stdout",
     "output_type": "stream",
     "text": [
      "CR по контрольной (А) группе: 0.95\n",
      "CR по тестовой (B) группе: 0.89\n"
     ]
    }
   ],
   "source": [
    "CR_a = round((user_a_payusers / user_a_all) * 100, 2)\n",
    "print(f'CR по контрольной (А) группе: {CR_a}')\n",
    "\n",
    "CR_b = round((user_b_payusers / user_b_all) * 100, 2)\n",
    "print(f'CR по тестовой (B) группе: {CR_b}')"
   ]
  },
  {
   "cell_type": "markdown",
   "metadata": {},
   "source": [
    "Выводы: Значения в контрольной группе по ARPPU и CR выше, чем в тестовой. Необходимо провести ряд A/B тестов, чтобы понять статистическую значимость нововведенных акционных предложений."
   ]
  },
  {
   "cell_type": "markdown",
   "metadata": {},
   "source": [
    "Проверим ARPU.\n",
    "\n",
    "Нулевая гипотеза - статистически значимых различий между контрольной и тестовой группы нет. \n",
    "Альтернативная гипотеза - статистически значимые различия между контрольной и тестовой группой есть. \n",
    "\n",
    "Проверяем дисперсии на гомогенность:"
   ]
  },
  {
   "cell_type": "code",
   "execution_count": 41,
   "metadata": {},
   "outputs": [
    {
     "data": {
      "text/html": [
       "<div>\n",
       "<style scoped>\n",
       "    .dataframe tbody tr th:only-of-type {\n",
       "        vertical-align: middle;\n",
       "    }\n",
       "\n",
       "    .dataframe tbody tr th {\n",
       "        vertical-align: top;\n",
       "    }\n",
       "\n",
       "    .dataframe thead th {\n",
       "        text-align: right;\n",
       "    }\n",
       "</style>\n",
       "<table border=\"1\" class=\"dataframe\">\n",
       "  <thead>\n",
       "    <tr style=\"text-align: right;\">\n",
       "      <th></th>\n",
       "      <th>W</th>\n",
       "      <th>pval</th>\n",
       "      <th>equal_var</th>\n",
       "    </tr>\n",
       "  </thead>\n",
       "  <tbody>\n",
       "    <tr>\n",
       "      <th>levene</th>\n",
       "      <td>0.389629</td>\n",
       "      <td>0.532495</td>\n",
       "      <td>True</td>\n",
       "    </tr>\n",
       "  </tbody>\n",
       "</table>\n",
       "</div>"
      ],
      "text/plain": [
       "               W      pval  equal_var\n",
       "levene  0.389629  0.532495       True"
      ]
     },
     "execution_count": 41,
     "metadata": {},
     "output_type": "execute_result"
    }
   ],
   "source": [
    "pg.homoscedasticity(data=df_apru, dv=\"revenue\", group=\"testgroup\") "
   ]
  },
  {
   "cell_type": "markdown",
   "metadata": {},
   "source": [
    "В значении equal_var значение True, значит дисперсии гомогенны."
   ]
  },
  {
   "cell_type": "code",
   "execution_count": 42,
   "metadata": {},
   "outputs": [
    {
     "data": {
      "image/png": "[encoded data removed]",
      "text/plain": [
       "<Figure size 432x288 with 1 Axes>"
      ]
     },
     "metadata": {
      "needs_background": "light"
     },
     "output_type": "display_data"
    }
   ],
   "source": [
    "# Посмотрим на нормальность распределения выборок и используем Q-Q plot\n",
    "plt.subplot(1, 2, 2)\n",
    "stats.probplot(df_apru['revenue'], dist=\"norm\", plot=plt)\n",
    "plt.title('Q-Q Plot для Revenue')\n",
    "\n",
    "plt.tight_layout()\n",
    "plt.show()"
   ]
  },
  {
   "cell_type": "code",
   "execution_count": 43,
   "metadata": {},
   "outputs": [
    {
     "name": "stdout",
     "output_type": "stream",
     "text": [
      "        user_id  revenue testgroup\n",
      "416         417    37324         a\n",
      "4428       4429    37304         a\n",
      "5777       5778    37315         a\n",
      "8065       8066    37307         a\n",
      "8743       8744    37334         a\n",
      "...         ...      ...       ...\n",
      "360696   360697    37347         a\n",
      "378668   378669    37297         a\n",
      "389341   389342    37298         a\n",
      "394580   394581    37302         a\n",
      "399294   399295    37321         a\n",
      "\n",
      "[123 rows x 3 columns]\n"
     ]
    }
   ],
   "source": [
    "df_apru_users_35k = df_apru.query('revenue > 35000')\n",
    "print(df_apru_users_35k)"
   ]
  },
  {
   "cell_type": "markdown",
   "metadata": {},
   "source": [
    "На графике видно, что есть выбросы данных. В случаях, когда есть выбросы данных, следует применять непараметрические методы, такие как U-критерий Манна-Уитни. Пользователей, с которых мы получили большую прибыль 123 человека (причины могут быть разные: заядлые игроки или крупный донат). Но раз выборки большие, то распределение средних будет стремиться к нормальному, а значит можно использовать t-криетерий. "
   ]
  },
  {
   "cell_type": "code",
   "execution_count": 44,
   "metadata": {},
   "outputs": [],
   "source": [
    "df_apru_group_a = df_apru[df_apru['testgroup'] == 'a']\n",
    "df_apru_group_b = df_apru[df_apru['testgroup'] == 'b']"
   ]
  },
  {
   "cell_type": "code",
   "execution_count": 45,
   "metadata": {},
   "outputs": [
    {
     "data": {
      "text/html": [
       "<div>\n",
       "<style scoped>\n",
       "    .dataframe tbody tr th:only-of-type {\n",
       "        vertical-align: middle;\n",
       "    }\n",
       "\n",
       "    .dataframe tbody tr th {\n",
       "        vertical-align: top;\n",
       "    }\n",
       "\n",
       "    .dataframe thead th {\n",
       "        text-align: right;\n",
       "    }\n",
       "</style>\n",
       "<table border=\"1\" class=\"dataframe\">\n",
       "  <thead>\n",
       "    <tr style=\"text-align: right;\">\n",
       "      <th></th>\n",
       "      <th>T</th>\n",
       "      <th>dof</th>\n",
       "      <th>alternative</th>\n",
       "      <th>p-val</th>\n",
       "      <th>CI95%</th>\n",
       "      <th>cohen-d</th>\n",
       "      <th>BF10</th>\n",
       "      <th>power</th>\n",
       "    </tr>\n",
       "  </thead>\n",
       "  <tbody>\n",
       "    <tr>\n",
       "      <th>T-test</th>\n",
       "      <td>-0.623488</td>\n",
       "      <td>240991.130782</td>\n",
       "      <td>two-sided</td>\n",
       "      <td>0.532965</td>\n",
       "      <td>[-5.54, 2.87]</td>\n",
       "      <td>0.001962</td>\n",
       "      <td>0.004</td>\n",
       "      <td>0.095694</td>\n",
       "    </tr>\n",
       "  </tbody>\n",
       "</table>\n",
       "</div>"
      ],
      "text/plain": [
       "               T            dof alternative     p-val          CI95%  \\\n",
       "T-test -0.623488  240991.130782   two-sided  0.532965  [-5.54, 2.87]   \n",
       "\n",
       "         cohen-d   BF10     power  \n",
       "T-test  0.001962  0.004  0.095694  "
      ]
     },
     "execution_count": 45,
     "metadata": {},
     "output_type": "execute_result"
    }
   ],
   "source": [
    "pg.ttest(df_apru_group_a.revenue, df_apru_group_b.revenue)"
   ]
  },
  {
   "cell_type": "markdown",
   "metadata": {},
   "source": [
    "p-value равняется 0.532965 (больше 0.05), а значит нулевая гипотеза не отклоняется."
   ]
  },
  {
   "cell_type": "markdown",
   "metadata": {},
   "source": [
    "Теперь проверим ARPPU. \n",
    "\n",
    "Нулевая гипотеза - статистически значимых различий между контрольной и тестовой группы нет. Альтернативная гипотеза - статистически значимые различия между контрольной и тестовой группой есть.\n",
    "\n",
    "Проверяем дисперсии на гомогенность:"
   ]
  },
  {
   "cell_type": "code",
   "execution_count": 46,
   "metadata": {},
   "outputs": [],
   "source": [
    "df_apru_revenue_plus = df_apru[df_apru ['revenue'] > 0]"
   ]
  },
  {
   "cell_type": "code",
   "execution_count": 47,
   "metadata": {},
   "outputs": [
    {
     "data": {
      "text/html": [
       "<div>\n",
       "<style scoped>\n",
       "    .dataframe tbody tr th:only-of-type {\n",
       "        vertical-align: middle;\n",
       "    }\n",
       "\n",
       "    .dataframe tbody tr th {\n",
       "        vertical-align: top;\n",
       "    }\n",
       "\n",
       "    .dataframe thead th {\n",
       "        text-align: right;\n",
       "    }\n",
       "</style>\n",
       "<table border=\"1\" class=\"dataframe\">\n",
       "  <thead>\n",
       "    <tr style=\"text-align: right;\">\n",
       "      <th></th>\n",
       "      <th>W</th>\n",
       "      <th>pval</th>\n",
       "      <th>equal_var</th>\n",
       "    </tr>\n",
       "  </thead>\n",
       "  <tbody>\n",
       "    <tr>\n",
       "      <th>levene</th>\n",
       "      <td>80.855674</td>\n",
       "      <td>3.779690e-19</td>\n",
       "      <td>False</td>\n",
       "    </tr>\n",
       "  </tbody>\n",
       "</table>\n",
       "</div>"
      ],
      "text/plain": [
       "                W          pval  equal_var\n",
       "levene  80.855674  3.779690e-19      False"
      ]
     },
     "execution_count": 47,
     "metadata": {},
     "output_type": "execute_result"
    }
   ],
   "source": [
    "pg.homoscedasticity(data=df_apru_revenue_plus, dv=\"revenue\", group=\"testgroup\") "
   ]
  },
  {
   "cell_type": "markdown",
   "metadata": {},
   "source": [
    "В значении equal_var значение False, значит дисперсии негомогенны и применять t-критерий как в случае с ARPU мы не можем. Применим t-критерий Уэлча, который корректирует степени свободы и стандартную ошибку, чтобы учесть неравенство дисперсий."
   ]
  },
  {
   "cell_type": "code",
   "execution_count": 48,
   "metadata": {},
   "outputs": [
    {
     "data": {
      "text/html": [
       "<div>\n",
       "<style scoped>\n",
       "    .dataframe tbody tr th:only-of-type {\n",
       "        vertical-align: middle;\n",
       "    }\n",
       "\n",
       "    .dataframe tbody tr th {\n",
       "        vertical-align: top;\n",
       "    }\n",
       "\n",
       "    .dataframe thead th {\n",
       "        text-align: right;\n",
       "    }\n",
       "</style>\n",
       "<table border=\"1\" class=\"dataframe\">\n",
       "  <thead>\n",
       "    <tr style=\"text-align: right;\">\n",
       "      <th></th>\n",
       "      <th>T</th>\n",
       "      <th>dof</th>\n",
       "      <th>alternative</th>\n",
       "      <th>p-val</th>\n",
       "      <th>CI95%</th>\n",
       "      <th>cohen-d</th>\n",
       "      <th>BF10</th>\n",
       "      <th>power</th>\n",
       "    </tr>\n",
       "  </thead>\n",
       "  <tbody>\n",
       "    <tr>\n",
       "      <th>T-test</th>\n",
       "      <td>-1.64463</td>\n",
       "      <td>1943.481522</td>\n",
       "      <td>two-sided</td>\n",
       "      <td>0.100208</td>\n",
       "      <td>[-744.7, 65.38]</td>\n",
       "      <td>0.052132</td>\n",
       "      <td>0.142</td>\n",
       "      <td>0.356381</td>\n",
       "    </tr>\n",
       "  </tbody>\n",
       "</table>\n",
       "</div>"
      ],
      "text/plain": [
       "              T          dof alternative     p-val            CI95%   cohen-d  \\\n",
       "T-test -1.64463  1943.481522   two-sided  0.100208  [-744.7, 65.38]  0.052132   \n",
       "\n",
       "         BF10     power  \n",
       "T-test  0.142  0.356381  "
      ]
     },
     "execution_count": 48,
     "metadata": {},
     "output_type": "execute_result"
    }
   ],
   "source": [
    "pg.ttest(df_apru_group_a[df_apru_group_a['revenue'] > 0]['revenue'], df_apru_group_b[df_apru_group_b['revenue'] > 0]['revenue'])"
   ]
  },
  {
   "cell_type": "markdown",
   "metadata": {},
   "source": [
    "p-value равняется 0.100208 (больше 0.05), а значит нулевая гипотеза не отклоняется."
   ]
  },
  {
   "cell_type": "markdown",
   "metadata": {},
   "source": [
    "Теперь проверим конверсию (CR). \n",
    "\n",
    "Нулевая гипотеза - статистически значимых различий между контрольной и тестовой группы нет. Альтернативная гипотеза - статистически значимые различия между контрольной и тестовой группой есть.\n",
    "\n",
    "В отличии от первых двух тестов, здесь можно использовать хи-квадрат, ибо у пользователя на выбор есть несколько вариантов (совершать покупку или нет).\n",
    "\n",
    "При этом нужно добавить новый столбец, который будет делать пометку - пользователь входит в группу платящего или нет."
   ]
  },
  {
   "cell_type": "code",
   "execution_count": 49,
   "metadata": {},
   "outputs": [
    {
     "data": {
      "text/html": [
       "<div>\n",
       "<style scoped>\n",
       "    .dataframe tbody tr th:only-of-type {\n",
       "        vertical-align: middle;\n",
       "    }\n",
       "\n",
       "    .dataframe tbody tr th {\n",
       "        vertical-align: top;\n",
       "    }\n",
       "\n",
       "    .dataframe thead th {\n",
       "        text-align: right;\n",
       "    }\n",
       "</style>\n",
       "<table border=\"1\" class=\"dataframe\">\n",
       "  <thead>\n",
       "    <tr style=\"text-align: right;\">\n",
       "      <th></th>\n",
       "      <th>user_id</th>\n",
       "      <th>revenue</th>\n",
       "      <th>testgroup</th>\n",
       "      <th>puser</th>\n",
       "    </tr>\n",
       "  </thead>\n",
       "  <tbody>\n",
       "    <tr>\n",
       "      <th>0</th>\n",
       "      <td>1</td>\n",
       "      <td>0</td>\n",
       "      <td>b</td>\n",
       "      <td>0</td>\n",
       "    </tr>\n",
       "    <tr>\n",
       "      <th>1</th>\n",
       "      <td>2</td>\n",
       "      <td>0</td>\n",
       "      <td>a</td>\n",
       "      <td>0</td>\n",
       "    </tr>\n",
       "    <tr>\n",
       "      <th>2</th>\n",
       "      <td>3</td>\n",
       "      <td>0</td>\n",
       "      <td>a</td>\n",
       "      <td>0</td>\n",
       "    </tr>\n",
       "    <tr>\n",
       "      <th>3</th>\n",
       "      <td>4</td>\n",
       "      <td>0</td>\n",
       "      <td>b</td>\n",
       "      <td>0</td>\n",
       "    </tr>\n",
       "    <tr>\n",
       "      <th>4</th>\n",
       "      <td>5</td>\n",
       "      <td>0</td>\n",
       "      <td>b</td>\n",
       "      <td>0</td>\n",
       "    </tr>\n",
       "    <tr>\n",
       "      <th>...</th>\n",
       "      <td>...</td>\n",
       "      <td>...</td>\n",
       "      <td>...</td>\n",
       "      <td>...</td>\n",
       "    </tr>\n",
       "    <tr>\n",
       "      <th>404765</th>\n",
       "      <td>404766</td>\n",
       "      <td>0</td>\n",
       "      <td>a</td>\n",
       "      <td>0</td>\n",
       "    </tr>\n",
       "    <tr>\n",
       "      <th>404766</th>\n",
       "      <td>404767</td>\n",
       "      <td>0</td>\n",
       "      <td>b</td>\n",
       "      <td>0</td>\n",
       "    </tr>\n",
       "    <tr>\n",
       "      <th>404767</th>\n",
       "      <td>404768</td>\n",
       "      <td>231</td>\n",
       "      <td>a</td>\n",
       "      <td>1</td>\n",
       "    </tr>\n",
       "    <tr>\n",
       "      <th>404768</th>\n",
       "      <td>404769</td>\n",
       "      <td>0</td>\n",
       "      <td>a</td>\n",
       "      <td>0</td>\n",
       "    </tr>\n",
       "    <tr>\n",
       "      <th>404769</th>\n",
       "      <td>404770</td>\n",
       "      <td>0</td>\n",
       "      <td>b</td>\n",
       "      <td>0</td>\n",
       "    </tr>\n",
       "  </tbody>\n",
       "</table>\n",
       "<p>404770 rows × 4 columns</p>\n",
       "</div>"
      ],
      "text/plain": [
       "        user_id  revenue testgroup  puser\n",
       "0             1        0         b      0\n",
       "1             2        0         a      0\n",
       "2             3        0         a      0\n",
       "3             4        0         b      0\n",
       "4             5        0         b      0\n",
       "...         ...      ...       ...    ...\n",
       "404765   404766        0         a      0\n",
       "404766   404767        0         b      0\n",
       "404767   404768      231         a      1\n",
       "404768   404769        0         a      0\n",
       "404769   404770        0         b      0\n",
       "\n",
       "[404770 rows x 4 columns]"
      ]
     },
     "execution_count": 49,
     "metadata": {},
     "output_type": "execute_result"
    }
   ],
   "source": [
    "# Добавляем новый столбец puser и с помощью функции where определяем, если revenue больше 0, то ставим 1. Если меньше, то ставим 0\n",
    "df_apru['puser'] = np.where(df_apru['revenue'] > 0, 1, 0)\n",
    "df_apru"
   ]
  },
  {
   "cell_type": "code",
   "execution_count": 50,
   "metadata": {},
   "outputs": [
    {
     "data": {
      "text/plain": [
       "(4.374729521260405,\n",
       " 0.03647561892312613,\n",
       " 1,\n",
       " array([[200239.10075104,   1863.89924896],\n",
       "        [200797.89924896,   1869.10075104]]))"
      ]
     },
     "execution_count": 50,
     "metadata": {},
     "output_type": "execute_result"
    }
   ],
   "source": [
    "stats.chi2_contingency(pd.crosstab(df_apru.testgroup, df_apru.puser)) "
   ]
  },
  {
   "cell_type": "markdown",
   "metadata": {},
   "source": [
    "p-value равняется  0.03647561892312613, что меньше 0.05 и значит есть статистически значимые различия. "
   ]
  },
  {
   "cell_type": "markdown",
   "metadata": {},
   "source": [
    "Выводы: \n",
    "Были подсчитаны три метрики: ARPU, ARPPU и CR;\n",
    "Были проведены три статистических теста: t-критерий, t-критерий Уэлча и хи-квадрат. В первых двух p-value было больше 0.05, в последнем p-value меньше 0.05;\n",
    "\n",
    "Какой набор предложений можно считать лучшим?\n",
    "Отвечая на главный вопрос задания, нужно учитывать факт того, какое стандартное отклонение было у данных. На мой взгляд, необходимо перепроверить данные и провести А/В тестирование повторно, если есть такая возможность и сделать более строгий контроль над сбором сведений. \n",
    "\n",
    "Если же такой возможности нет, то статистически значимые значения есть только в CR, даже не смотря на то, что ARPU в тестовой группе был на 5% больше. Учитывая, все вышеперечисленное и плюс ситуацию с выбросом данных, которые необходимо проанализировать дополнительно и узнать их причину - акционные предложения лучше не вводить, так как контрольная группа давала более положительные результаты в рамках исследования."
   ]
  },
  {
   "cell_type": "markdown",
   "metadata": {},
   "source": [
    "Задание №3. В игре Plants & Gardens каждый месяц проводятся тематические события, ограниченные по времени. В них игроки могут получить уникальные предметы для сада и персонажей, дополнительные монеты или бонусы. Для получения награды требуется пройти ряд уровней за определенное время. С помощью каких метрик можно оценить результаты последнего прошедшего события?"
   ]
  },
  {
   "cell_type": "markdown",
   "metadata": {},
   "source": [
    "Для ответа на вопрос о том, как можно оценить результаты последнего прошедшего события, стоит рассмотреть ряд метрик. \n",
    "\n",
    "1. Метрики привлечения.\n",
    "Предположим, у компании есть маркетинговый отдел, который занимается рекламной кампанией нового ивента. Это можно использовать, чтобы определить кол-во людей, которые приняли участие в ивенте. \n",
    "\n",
    "Стоимость одной установки (CPI) (да, в условии задания не сказано про стоимость рекламной кампании, но предположим, она была) = общая стоимость рекламной компании / кол-во новых пользователей, которые зарегистрировались на событие.\n",
    "\n",
    "\n",
    "Конверсия в регистрацию на событие (CR) = (кол-во пользователей, зарегистравившихся на событие / кол-во всех пользователей) * 100\n",
    "\n",
    "ARPU (Average Revenue Per User) = общий доход за период / на количество пользователей за этот же период. \n",
    "Пользователи, которые попали на ежемесечный ивент могут приобрести виртуальную валюту/предметы/подписку. В задаче нет условий о том, что ивент доступен по подписке, но и такой вариант тоже может быть. \n",
    "\n",
    "2. Метрики вовлеченности. \n",
    "Название самой группы метрик говорит за себя - они помогают измерить вовлеченность пользователей в продукт.\n",
    "\n",
    "MAU - учитывая, что у нас ежемесячные ивенты, то здесь больше подходит MAU. Эта одна из основных метрик, отвечающая на главный вопрос задачи - оценка прошедшего события. Если MAU больше 20%, то ивент собрал значительное кол-во пользователей в игре. \n",
    "\n",
    "Retention Rate - метрика, показывающая процент удержания пользователей в продукте. Учитывая, что у нас мобильное приложение, которое устраивает постоянные ежемесячные ивенты, подобная метрика должна быть использована. \n",
    "\n",
    "Retention Rate = количество активных пользователей, продолжающих играть / общее количество активных пользователей в начале периода = коэффициент удержания.\n",
    "\n",
    "3. Метрики производительности.\n",
    "\n",
    "Эти метрики ничто иное, как показатели эффективности и используются для измерения поведения, деятельности и результативности бизнеса. Учитывая, что у нас, как у бизнеса есть задача по расширению аудитории, важно учитывать ряд технических метрик.\n",
    "\n",
    "Время загрузки приложения (App Load Time) - важно понимать, что при увеличении объема пользователей, приложение будет работать корректно и справится с внезапной нагрузкой на сервера.\n",
    "\n",
    "4. Дополнительные метрики\n",
    "\n",
    "DAU (Daily Active Users) - количество пользователей, активных ежедневно. Это поможет понять, насколько часто пользователи возвращаются в игру во время события.\n",
    "\n",
    "Среднее время в игре (Average Session Duration) - время, которое пользователи проводят в игре за одну сессию. Это может дать представление о том, насколько увлекательно событие.\n",
    "\n",
    "Отзывы и рейтинги. Анализ отзывов и рейтингов пользователей в магазинах приложений может дать качественную оценку удовлетворенности пользователей.\n",
    "\n",
    "Таким образом, отвечая на первый вопрос задачи, можно выделить метрики:\n",
    "Конверсия в регистрацию на событие (CR)\n",
    "ARPU\n",
    "MAU\n",
    "Retention Rate\n",
    "Average Session Duration\n",
    "\n",
    "Посмотрев на результаты этих метрик, можно сделать вывод о том, было ли событие проведено успешно как с точки зрения финансовой, так и с удовлетворенности пользователей (пользователь удовлетворен = пользователь продолжает заходить в игру)."
   ]
  },
  {
   "cell_type": "markdown",
   "metadata": {},
   "source": [
    "Предположим, в другом событии мы усложнили механику событий так, что при каждой неудачной попытке выполнения уровня игрок будет откатываться на несколько уровней назад. Изменится ли набор метрик оценки результата? Если да, то как?\n",
    "\n",
    "Да, изменится. Пользователь после нескольких неудачных попыток может и вовсе не вернуться в игру. Здесь, на мой взгляд, стоит рассмотреть еще Churn Rate.\n",
    "\n",
    "Churn Rate = (Количество ушедших пользователей после начала ивента / Первоначальное количество пользователей) * 100\n",
    "\n",
    "Внимательно стоит смотреть за тем, как будет меняться Retention Rate. Если возникнет ситуация с тем, что пользователи начнут покидать игру и более не возвращаться, процент удержания снизится.\n",
    "И это конечно же так же отразится на ARPU - пользователи могут перестать покупать подписку/внутриигровые предметы. \n",
    "\n",
    "К тому же, можно более углубленно изучить игровые особенности и перенести их на пример метрик. Например:\n",
    "\n",
    "1. Время на прохождение уровня.\n",
    "\n",
    "Среднее время, которое требуется пользователям для прохождения уровня. Это поможет оценить, насколько увлекательной остается игра с новой механикой.\n",
    "\n",
    "2. Процент успешных прохождений.\n",
    "\n",
    "Процент пользователей, успешно прошедших уровень с первой попытки или после нескольких попыток. Это даст представление о том, насколько реалистична новая механика.\n",
    "\n",
    "После анализа данных метрик, можно сделать вывод о том, как повлияли новые механики на пользовательский опыт."
   ]
  }
 ],
 "metadata": {
  "kernelspec": {
   "display_name": "Python 3",
   "language": "python",
   "name": "python3"
  },
  "language_info": {
   "codemirror_mode": {
    "name": "ipython",
    "version": 3
   },
   "file_extension": ".py",
   "mimetype": "text/x-python",
   "name": "python",
   "nbconvert_exporter": "python",
   "pygments_lexer": "ipython3",
   "version": "3.7.3"
  }
 },
 "nbformat": 4,
 "nbformat_minor": 4
}
